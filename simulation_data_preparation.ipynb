{
 "cells": [
  {
   "cell_type": "code",
   "execution_count": 1,
   "metadata": {},
   "outputs": [],
   "source": [
    "import pandas as pd\n",
    "import statsmodels.formula.api as smf\n",
    "import seaborn as sns\n",
    "import matplotlib.pyplot as plt\n",
    "import statsmodels.api as sm\n",
    "import numpy as np\n",
    "from datetime import timedelta\n",
    "import random\n",
    "\n",
    "\n",
    "pd.set_option('display.max_rows', None)\n",
    "pd.set_option('display.max_columns', 500)"
   ]
  },
  {
   "cell_type": "code",
   "execution_count": 2,
   "metadata": {},
   "outputs": [],
   "source": [
    "df = pd.read_csv(\"more_data_action_energy_linear_extratrain_0.csv\")"
   ]
  },
  {
   "cell_type": "code",
   "execution_count": 3,
   "metadata": {},
   "outputs": [],
   "source": [
    "df.drop(columns={\"Unnamed: 0\"}, inplace=True)"
   ]
  },
  {
   "cell_type": "code",
   "execution_count": 4,
   "metadata": {},
   "outputs": [],
   "source": [
    "# Reduces size of raw data to 10%\n",
    "df = df.iloc[:int(len(df) * 1)]"
   ]
  },
  {
   "cell_type": "code",
   "execution_count": 5,
   "metadata": {},
   "outputs": [],
   "source": [
    "cbh = pd.offsets.CustomBusinessHour(start='08:00', \n",
    "                                    end='18:00',\n",
    "                                    weekmask = 'Mon Tue Wed Thu Fri Sat Sun')"
   ]
  },
  {
   "cell_type": "code",
   "execution_count": 6,
   "metadata": {},
   "outputs": [],
   "source": [
    "df[\"Timestamp\"] = pd.date_range(start = pd.Timestamp(\"2018-09-20T08\"),freq=cbh, periods = len(df))"
   ]
  },
  {
   "cell_type": "code",
   "execution_count": 7,
   "metadata": {},
   "outputs": [],
   "source": [
    "df[\"Date\"] = [row.date() for row in df[\"Timestamp\"]]"
   ]
  },
  {
   "cell_type": "code",
   "execution_count": 8,
   "metadata": {},
   "outputs": [],
   "source": [
    "df[\"Hour\"] = [row.hour for row in df[\"Timestamp\"]]"
   ]
  },
  {
   "cell_type": "code",
   "execution_count": 9,
   "metadata": {
    "scrolled": false
   },
   "outputs": [],
   "source": [
    "df[\"Day of Week\"] = pd.to_datetime(df[\"Date\"]).dt.day_name()"
   ]
  },
  {
   "cell_type": "code",
   "execution_count": 10,
   "metadata": {
    "code_folding": []
   },
   "outputs": [],
   "source": [
    "# include below line if you are using Jupyter Notebook\n",
    "%matplotlib inline\n",
    "\n",
    "# Set figure width to 12 and height to 9\n",
    "plt.rcParams['figure.figsize'] = [12, 16]"
   ]
  },
  {
   "cell_type": "markdown",
   "metadata": {},
   "source": [
    "# Data Preparation"
   ]
  },
  {
   "cell_type": "markdown",
   "metadata": {},
   "source": [
    "'Baseline' - calculate from three previous day of weeks and time\n",
    "'v_learning'? Brainstorm a way around this pulling model back to the observed, office might not react the same way vicarious learning assumes when training.\n",
    "'weekly_poll' 0-5, has a noisy effect of decreasing energy usage throughout the day (1 is least likely to save and 5 is most likely)\n",
    "'pre_survey' 0-5, has a noisy effect of decreasing energy usage throughout the day (1 is least likely to save and 5 is most likely)\n",
    "'points' - done\n",
    "'email_indicator' - 0 or 1 (one has effect of reducing, modify energy values if value is 1)\n",
    "'out_of_office' - 0 or 1 (one has effect of reducing, modify energy values if value is 1)\n",
    "'Timestamp' - done"
   ]
  },
  {
   "cell_type": "markdown",
   "metadata": {},
   "source": [
    "## Out Of Office"
   ]
  },
  {
   "cell_type": "code",
   "execution_count": 11,
   "metadata": {},
   "outputs": [],
   "source": [
    "df_dates_shuffled = list(set(df.Date))\n",
    "random.shuffle(df_dates_shuffled)"
   ]
  },
  {
   "cell_type": "code",
   "execution_count": 12,
   "metadata": {},
   "outputs": [],
   "source": [
    "df_dates_shuffled = df_dates_shuffled[:20]"
   ]
  },
  {
   "cell_type": "code",
   "execution_count": 13,
   "metadata": {},
   "outputs": [],
   "source": [
    "df[\"Out_of_Office\"] = 0\n",
    "for date in df_dates_shuffled:\n",
    "    df.loc[df.Date == date, \"Out_of_Office\"] = 1"
   ]
  },
  {
   "cell_type": "code",
   "execution_count": 14,
   "metadata": {},
   "outputs": [],
   "source": [
    "df[\"Energy\"] = df[\"Energy\"]*(1-df[\"Out_of_Office\"]) + np.random.normal(20, 1, len(df))*df[\"Out_of_Office\"]"
   ]
  },
  {
   "cell_type": "markdown",
   "metadata": {},
   "source": [
    "## Presurvey"
   ]
  },
  {
   "cell_type": "code",
   "execution_count": 15,
   "metadata": {},
   "outputs": [],
   "source": [
    "rand_1 = round(random.uniform(0, 5), 2)\n",
    "rand_2 = round(random.uniform(0, 5), 2)\n",
    "\n",
    "for index, row in df.iterrows():\n",
    "    if index > len(df) / 2:\n",
    "        df.loc[index, \"Presurvey\"] = rand_1\n",
    "    else:\n",
    "        df.loc[index, \"Presurvey\"] = rand_2"
   ]
  },
  {
   "cell_type": "code",
   "execution_count": 16,
   "metadata": {},
   "outputs": [],
   "source": [
    "df[\"Energy\"] -= np.random.poisson(df[\"Presurvey\"]*10, len(df))"
   ]
  },
  {
   "cell_type": "markdown",
   "metadata": {},
   "source": [
    "## Weekly Survey"
   ]
  },
  {
   "cell_type": "code",
   "execution_count": 17,
   "metadata": {},
   "outputs": [],
   "source": [
    "length_day = 10\n",
    "init_offset = 7 - pd.to_datetime(df.loc[0][\"Date\"]).weekday()\n",
    "weekly_survey = []\n",
    "\n",
    "first = [round(random.uniform(0, 5), 2)]*(length_day*init_offset)\n",
    "weekly_survey.extend(first)\n",
    "\n",
    "while len(weekly_survey) < (len(df) - 7*length_day):\n",
    "    weekly_survey.extend([round(random.uniform(0, 5), 2)]*70)\n",
    "    \n",
    "last = [round(random.uniform(0, 5), 2)]*(len(df) - len(weekly_survey))\n",
    "weekly_survey.extend(last)\n",
    "\n",
    "df[\"Weekly_Survey\"] = weekly_survey"
   ]
  },
  {
   "cell_type": "code",
   "execution_count": 18,
   "metadata": {},
   "outputs": [],
   "source": [
    "df[\"Energy\"] -= np.random.poisson(df[\"Weekly_Survey\"]*5, len(df))"
   ]
  },
  {
   "cell_type": "markdown",
   "metadata": {},
   "source": [
    "## Baseline"
   ]
  },
  {
   "cell_type": "code",
   "execution_count": 19,
   "metadata": {},
   "outputs": [],
   "source": [
    "social_game_df = pd.read_csv(\"HourlyDataCleanedFinal.csv\")\n",
    "social_game_df.Date = pd.to_datetime(social_game_df.Date)"
   ]
  },
  {
   "cell_type": "code",
   "execution_count": 20,
   "metadata": {},
   "outputs": [],
   "source": [
    "def get_hourly_in_game_baseline(df, timestamp):\n",
    "    \n",
    "    baseline_times = []\n",
    "    energy = []\n",
    "\n",
    "    for _ in range(3):\n",
    "        timestamp = timestamp - timedelta(weeks=1)\n",
    "        baseline_times.append((timestamp.date(), timestamp.hour))\n",
    "    \n",
    "    for time in baseline_times:\n",
    "        if(len(df[(df[\"Date\"] == time[0]) & (df[\"Hour\"] == time[1])][\"Energy\"]) == 0):\n",
    "            window = np.nan\n",
    "        else:\n",
    "            window = df[(df[\"Date\"] == time[0]) & (df[\"Hour\"] == time[1])][\"Energy\"].iloc[0]\n",
    "            \n",
    "        energy.append(window)\n",
    "\n",
    "    return np.nanmean(energy)"
   ]
  },
  {
   "cell_type": "code",
   "execution_count": 21,
   "metadata": {
    "code_folding": []
   },
   "outputs": [],
   "source": [
    "def get_hourly_before_game_baseline(social_game_df, timestamp):\n",
    "    day_of_week = timestamp.day_name()\n",
    "    \n",
    "    social_game_df = social_game_df[(social_game_df[\"Date\"] <= pd.Timestamp('2018-06-29'))].groupby(\n",
    "        [\"Date\", \"Hour\"])[\"HourlyEnergy\"].mean().reset_index()\n",
    "    social_game_df[\"Day of Week\"] = social_game_df[\"Date\"].dt.day_name()\n",
    "    \n",
    "    social_game_df = social_game_df.iloc[1:505]\n",
    "    social_game_df_subset = social_game_df[(social_game_df[\"Hour\"] == timestamp.hour) \n",
    "                                           & (social_game_df[\"Day of Week\"] == day_of_week)]\n",
    "    \n",
    "    return np.mean(social_game_df_subset[\"HourlyEnergy\"])"
   ]
  },
  {
   "cell_type": "code",
   "execution_count": 22,
   "metadata": {
    "scrolled": true
   },
   "outputs": [],
   "source": [
    "df[\"Before_Game_Baseline\"] = [get_hourly_before_game_baseline(social_game_df, row[\"Timestamp\"]) \n",
    "                              for index, row in df.iterrows()]"
   ]
  },
  {
   "cell_type": "code",
   "execution_count": 23,
   "metadata": {},
   "outputs": [],
   "source": [
    "df[\"Energy\"] += [np.random.normal(row / 10, 1, 1)[0] for row in df[\"Before_Game_Baseline\"]]"
   ]
  },
  {
   "cell_type": "code",
   "execution_count": null,
   "metadata": {},
   "outputs": [
    {
     "name": "stderr",
     "output_type": "stream",
     "text": [
      "/anaconda/lib/python3.6/site-packages/ipykernel_launcher.py:18: RuntimeWarning: Mean of empty slice\n"
     ]
    }
   ],
   "source": [
    "df[\"In_Game_Baseline\"] = [get_hourly_in_game_baseline(df, row[\"Timestamp\"]) \n",
    "                              for index, row in df.iterrows()]\n",
    "df[\"Energy\"] = df[\"Energy\"].add([np.random.normal(row / 10, 1, 1)[0] for row in df[\"In_Game_Baseline\"]], \n",
    "                                fill_value=0)"
   ]
  },
  {
   "cell_type": "markdown",
   "metadata": {},
   "source": [
    "## Final Tune"
   ]
  },
  {
   "cell_type": "code",
   "execution_count": null,
   "metadata": {},
   "outputs": [],
   "source": [
    "df[\"Energy\"] = np.maximum(0, df[\"Energy\"])"
   ]
  },
  {
   "cell_type": "code",
   "execution_count": null,
   "metadata": {
    "scrolled": true
   },
   "outputs": [],
   "source": [
    "df.tail()"
   ]
  },
  {
   "cell_type": "code",
   "execution_count": null,
   "metadata": {},
   "outputs": [],
   "source": [
    "df.to_csv(r'/Users/akaash/Desktop/Dynamic_Model_Data/simulation_data_v2.csv', index = None, header=True)"
   ]
  },
  {
   "cell_type": "code",
   "execution_count": null,
   "metadata": {},
   "outputs": [],
   "source": []
  },
  {
   "cell_type": "markdown",
   "metadata": {},
   "source": [
    "# Graphing"
   ]
  },
  {
   "cell_type": "code",
   "execution_count": null,
   "metadata": {
    "cell_style": "center"
   },
   "outputs": [],
   "source": [
    "cycle, trend = sm.tsa.filters.hpfilter(df[\"Energy\"], 50)\n",
    "fig, ax = plt.subplots(4,1)\n",
    "ax[0].plot(df[\"Energy\"])\n",
    "ax[0].set_title('Energy')\n",
    "ax[1].plot(df[\"Point\"])\n",
    "ax[1].set_title('Point')\n",
    "ax[2].set_title('Trend')\n",
    "ax[2].plot(trend)\n",
    "ax[3].plot(cycle)\n",
    "ax[3].set_title('Cycle')\n",
    "plt.show()"
   ]
  },
  {
   "cell_type": "markdown",
   "metadata": {},
   "source": [
    "# Prediction"
   ]
  },
  {
   "cell_type": "code",
   "execution_count": null,
   "metadata": {},
   "outputs": [],
   "source": [
    "df_train = df.iloc[:int(len(df) * 0.7)]\n",
    "df_test = df.iloc[int(len(df) * 0.7):]"
   ]
  },
  {
   "cell_type": "code",
   "execution_count": null,
   "metadata": {},
   "outputs": [],
   "source": [
    "ols_mod_train = smf.ols(formula = \"(Energy ~ Point + Out_of_Office + Presurvey + Weekly_Survey + Before_Game_Baseline + In_Game_Baseline)\",\n",
    "                 data = df_train)\n",
    "ols_res = ols_mod_train.fit()\n",
    "ols_res.summary()"
   ]
  },
  {
   "cell_type": "code",
   "execution_count": null,
   "metadata": {},
   "outputs": [],
   "source": [
    "prediction = ols_res.predict(df_test)"
   ]
  },
  {
   "cell_type": "code",
   "execution_count": null,
   "metadata": {},
   "outputs": [],
   "source": [
    "prediction = np.maximum(0, prediction)"
   ]
  },
  {
   "cell_type": "code",
   "execution_count": null,
   "metadata": {},
   "outputs": [],
   "source": [
    "%matplotlib inline\n",
    "plt.plot(prediction)\n",
    "plt.plot(df_test[\"Energy\"])"
   ]
  },
  {
   "cell_type": "code",
   "execution_count": null,
   "metadata": {},
   "outputs": [],
   "source": [
    "np.sqrt(np.mean((prediction - df_test[\"Energy\"])**2))"
   ]
  },
  {
   "cell_type": "code",
   "execution_count": null,
   "metadata": {},
   "outputs": [],
   "source": []
  }
 ],
 "metadata": {
  "kernelspec": {
   "display_name": "Python 3",
   "language": "python",
   "name": "python3"
  },
  "language_info": {
   "codemirror_mode": {
    "name": "ipython",
    "version": 3
   },
   "file_extension": ".py",
   "mimetype": "text/x-python",
   "name": "python",
   "nbconvert_exporter": "python",
   "pygments_lexer": "ipython3",
   "version": "3.6.10"
  },
  "varInspector": {
   "cols": {
    "lenName": 16,
    "lenType": 16,
    "lenVar": 40
   },
   "kernels_config": {
    "python": {
     "delete_cmd_postfix": "",
     "delete_cmd_prefix": "del ",
     "library": "var_list.py",
     "varRefreshCmd": "print(var_dic_list())"
    },
    "r": {
     "delete_cmd_postfix": ") ",
     "delete_cmd_prefix": "rm(",
     "library": "var_list.r",
     "varRefreshCmd": "cat(var_dic_list()) "
    }
   },
   "position": {
    "height": "266.646px",
    "left": "1564.67px",
    "right": "20px",
    "top": "120px",
    "width": "335.333px"
   },
   "types_to_exclude": [
    "module",
    "function",
    "builtin_function_or_method",
    "instance",
    "_Feature"
   ],
   "window_display": false
  }
 },
 "nbformat": 4,
 "nbformat_minor": 4
}
