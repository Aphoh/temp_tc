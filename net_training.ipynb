{
 "cells": [
  {
   "cell_type": "code",
   "execution_count": 1,
   "metadata": {},
   "outputs": [],
   "source": [
    "import numpy as np\n",
    "\n",
    "import torch\n",
    "import torch.nn as nn\n",
    "import torch.nn.functional as F\n",
    "import torch.optim as optim"
   ]
  },
  {
   "cell_type": "code",
   "execution_count": 2,
   "metadata": {},
   "outputs": [],
   "source": [
    "\n",
    "class Person():\n",
    "\t\"\"\" Person (parent?) class -- will define how the person takes in a points signal and puts out an energy signal \n",
    "\tbaseline_energy = a list or dataframe of values. This is data from SinBerBEST \n",
    "\tpoints_multiplier = an int which describes how sensitive each person is to points \n",
    "\n",
    "\t\"\"\"\n",
    "\n",
    "\tdef __init__(self, baseline_energy_df, points_multiplier = 1):\n",
    "\t\tself.baseline_energy_df = baseline_energy_df\n",
    "\t\tself.baseline_energy = np.array(self.baseline_energy_df[\"net_energy_use\"])\n",
    "\t\tself.points_multiplier = points_multiplier\n",
    "\t\t\n",
    "\t\tbaseline_min = self.baseline_energy.min()\n",
    "\t\tbaseline_max = self.baseline_energy.max()\n",
    "\t\tbaseline_range = baseline_max - baseline_min\n",
    "\t\t\n",
    "\t\tself.min_demand = np.maximum(0, baseline_min + baseline_range * .05)\n",
    "\t\tself.max_demand = np.maximum(0, baseline_min + baseline_range * .95)\n",
    "\n",
    "\n",
    "\tdef energy_output_simple_linear(self, points):\n",
    "\t\t\"\"\"Determines the energy output of the person, based on the formula:\n",
    "\t\t\n",
    "\t\ty[n] = -sum_{rolling window of 5} points + baseline_energy + noise\n",
    "\n",
    "\t\tinputs: points - list or dataframe of points values. Assumes that the \n",
    "\t\tlist will be in the same time increment that energy_output will be. \n",
    "\n",
    "\t\tFor now, that's in 1 hour increments\n",
    "\n",
    "\t\t\"\"\"\n",
    "\t\tpoints_df = pd.DataFrame(points)\n",
    "\t\t\n",
    "\t\tpoints_effect = (\n",
    "\t\t\tpoints_df\n",
    "\t\t\t\t.rolling(\n",
    "\t\t\t\t\t\twindow = 5,\n",
    "\t\t\t\t\t\tmin_periods = 1)\n",
    "\t\t\t\t.mean()\n",
    "\t\t\t)\n",
    "\n",
    "\t\ttime = points_effect.shape[0]\n",
    "\t\tenergy_output= []\n",
    "\n",
    "\t\tfor t in range(time):\n",
    "\t\t\ttemp_energy = self.baseline_energy[t] - points_effect.iloc[t]*self.points_multiplier + \\\n",
    "\t\t\t\tnp.random.normal(1)\n",
    "\t\t\tenergy_output.append(temp_energy)\n",
    "\t\t\t\n",
    "\t\treturn pd.DataFrame(energy_output)\n",
    "\n",
    "\tdef pure_linear_signal(self, points, baseline_day=0):\n",
    "\t\t\"\"\"\n",
    "\t\tA linear person. The more points you give them, the less energy they will use\n",
    "\t\t(within some bounds) for each hour. No rolling effects or anything. The simplest\n",
    "\t\tsignal. \n",
    "\t\t\"\"\"\n",
    "\n",
    "\t\t# hack here to always grab the first day from the baseline_energy\n",
    "\t\toutput = np.array(self.baseline_energy)[baseline_day*24:baseline_day*24+10]\n",
    "\n",
    "\t\tpoints_effect = np.array(points * self.points_multiplier)\n",
    "\t\toutput = output - points_effect\n",
    "\n",
    "\t\t# impose bounds/constraints\n",
    "\t\toutput = np.maximum(output, self.min_demand)\n",
    "\t\toutput = np.minimum(output, self.max_demand)\n",
    "\t\treturn output\n",
    "\n",
    "\n",
    "\n",
    "\tdef get_min_demand(self):\n",
    "\t\treturn self.min_demand\n",
    "\t\t# return np.quantile(self.baseline_energy, .05)\n",
    "\n",
    "\tdef get_max_demand(self):\n",
    "\t\treturn self.max_demand\n",
    "\t\t# return np.quantile(self.baseline_energy, .95)\n",
    "\n",
    "class FixedDemandPerson(Person):\n",
    "\n",
    "\tdef __init__(self, baseline_energy_df, points_multiplier = 1):\n",
    "\t\tsuper().__init__(baseline_energy_df, points_multiplier)\n",
    "\n",
    "\n",
    "\tdef demand_from_points(self, points, baseline_day=0):\n",
    "\t\t# hack here to always grab the first day from the baseline_energy\n",
    "\t\toutput = np.array(self.baseline_energy)[baseline_day*24:baseline_day*24+10]\n",
    "\t\ttotal_demand = np.sum(output)\n",
    "\n",
    "\n",
    "\t\tpoints_effect = np.array(points * self.points_multiplier)\n",
    "\t\toutput = output - points_effect\n",
    "\n",
    "\t\t# scale to keep total_demand (almost) constant\n",
    "\t\t# almost bc imposing bounds afterwards\n",
    "\t\toutput = output * (total_demand/np.sum(output))\n",
    "\n",
    "\t\t# impose bounds/constraints\n",
    "\t\toutput = np.maximum(output, self.min_demand)\n",
    "\t\toutput = np.minimum(output, self.max_demand)\n",
    "\n",
    "\t\treturn output\n",
    "\n",
    "\tdef adverserial_linear(self, points, baseline_day=0):\n",
    "\t\t# hack here to always grab the first day from the baseline_energy\n",
    "\t\toutput = np.array(self.baseline_energy)[baseline_day*24:baseline_day*24+10]\n",
    "\t\ttotal_demand = np.sum(output)\n",
    "\n",
    "\n",
    "\t\tpoints_effect = np.array(points * self.points_multiplier)\n",
    "\t\toutput = output + points_effect\n",
    "\n",
    "\t\t# scale to keep total_demand (almost) constant\n",
    "\t\t# almost bc imposing bounds afterwards\n",
    "\t\toutput = output * (total_demand/np.sum(output))\n",
    "\n",
    "\t\t# impose bounds/constraints\n",
    "\t\toutput = np.maximum(output, self.min_demand)\n",
    "\t\toutput = np.minimum(output, self.max_demand)\n",
    "\n",
    "\t\treturn output"
   ]
  },
  {
   "cell_type": "code",
   "execution_count": 3,
   "metadata": {},
   "outputs": [],
   "source": [
    "class CurtailAndShiftPerson(Person):\n",
    "\tdef __init__(self, baseline_energy_df, points_multiplier = 1, shiftable_load_frac = .7, \n",
    "\t\t\tcurtailable_load_frac = .4, shiftByHours = 3, maxCurtailHours=5, response = None, **kwargs):\n",
    "\t\tsuper().__init__(baseline_energy_df, points_multiplier)\n",
    "\t\tself.shiftableLoadFraction = shiftable_load_frac\n",
    "\t\tself.shiftByHours = shiftByHours\n",
    "\t\tself.curtailableLoadFraction = curtailable_load_frac\n",
    "\t\tself.maxCurtailHours = maxCurtailHours #Person willing to curtail for no more than these hours\n",
    "\n",
    "\tdef shiftedLoad(self, points, baseline_day=0, day_of_week=None):\n",
    "\t\toutput = np.array(self.baseline_energy)[baseline_day*24:baseline_day*24+10]\n",
    "\t\tpoints = np.array(points) * self.points_multiplier\n",
    "\t\tshiftableLoad = self.shiftableLoadFraction*output\n",
    "\t\tshiftByHours = self.shiftByHours\n",
    "\t\t\n",
    "\t\t# 10 hour day. Rearrange the sum of shiftableLoad into these hours by treating points as the 'price' at that hour\n",
    "\t\t# Load can be shifted by a max of shiftByHours (default = 3 hours)\n",
    "\t\t# For each hour, calculate the optimal hour to shift load to within +- 3 hours\n",
    "\t\tshiftedLoad = np.zeros(10)\n",
    "\t\tfor hour in range(10):\n",
    "\t\t\tcandidatePrices = points[max(hour-shiftByHours,0): min(hour+shiftByHours,9)+1]\n",
    "\t\t\tshiftToHour = max(hour-shiftByHours,0) + np.argmin(candidatePrices)\n",
    "\t\t\tshiftedLoad[shiftToHour] += shiftableLoad[hour]\t\t\n",
    "\t\treturn shiftedLoad\n",
    "\n",
    "\tdef curtailedLoad(self, points, baseline_day=0, day_of_week=None):\n",
    "\t\toutput = np.array(self.baseline_energy)[baseline_day*24:baseline_day*24+10]\n",
    "\t\tpoints = np.array(points) * self.points_multiplier\n",
    "\t\tcurtailableLoad = self.curtailableLoadFraction*output\n",
    "\t\tmaxPriceHours = np.argsort(points)[0:self.maxCurtailHours]\n",
    "\t\tfor hour in maxPriceHours:\n",
    "\t\t\tcurtailableLoad[hour] = 0\n",
    "\t\treturn curtailableLoad\n",
    "\n",
    "\tdef get_response(self, points, day_of_week=None):\n",
    "\t\tbaseline_day = 0\n",
    "\t\toutput = np.array(self.baseline_energy)[baseline_day*24:baseline_day*24+10]\n",
    "\t\tenergy_resp = output*(1 - self.curtailableLoadFraction - self.shiftableLoadFraction) + self.curtailedLoad(points) + self.shiftedLoad(points)\n",
    "\t\t\n",
    "\t\t\t\n",
    "\t\tself.min_demand = np.maximum(0, min(energy_resp))\n",
    "\t\tself.max_demand = np.maximum(0, max(energy_resp))\n",
    "\n",
    "\t\treturn energy_resp\n",
    "\n",
    "\n",
    "\n"
   ]
  },
  {
   "cell_type": "code",
   "execution_count": 4,
   "metadata": {},
   "outputs": [],
   "source": [
    "a = {\"net_energy_use\":[15.09,  35.6, 123.5,  148.7,  158.49, 149.13, 159.32, 157.62, 158.8,  156.49]}"
   ]
  },
  {
   "cell_type": "code",
   "execution_count": 5,
   "metadata": {},
   "outputs": [],
   "source": [
    "bob = CurtailAndShiftPerson(baseline_energy_df=a)"
   ]
  },
  {
   "cell_type": "code",
   "execution_count": 6,
   "metadata": {},
   "outputs": [],
   "source": [
    "output_data = []\n",
    "\n",
    "# square_waves = np.array([[0,0,0,0,0,0,0,0,1,0],\n",
    "#                         [0,0,0,0,0,0,0,0,1,0],\n",
    "#                         [1,0,0,0,0,0,0,0,0,0],\n",
    "#                         [1,0,0,0,0,0,0,0,0,0],\n",
    "#                         [0,1,0,0,0,0,0,0,0,0],\n",
    "#                         [0,1,0,0,0,0,0,0,0,0],\n",
    "#                         [0,0,1,0,0,0,0,0,0,1],\n",
    "#                         [0,0,1,0,0,0,0,0,0,1],\n",
    "#                         [0,0,0,1,0,0,0,0,0,0],\n",
    "#                         [0,0,0,1,0,0,0,0,0,0]])\n",
    "train_size = 1000\n",
    "square_waves = np.random.uniform(size=[train_size, 10])\n",
    "square_waves /= np.sum(square_waves, axis=-1, keepdims=True)\n",
    "val_size = 256\n",
    "validation_waves = np.random.uniform(size=[256, 10])\n",
    "validation_waves = validation_waves  / np.sum(validation_waves, axis=-1, keepdims=True)\n",
    "validation_data = []\n",
    "\n",
    "for day in range(square_waves.shape[0]):\n",
    "    output_data.append(bob.get_response(square_waves[day]))\n",
    "for day in range(validation_waves.shape[0]):\n",
    "    validation_data.append(bob.get_response(validation_waves[day]))\n",
    "    \n",
    "output_data=np.array(output_data)\n",
    "validation_data = np.array(validation_data)"
   ]
  },
  {
   "cell_type": "code",
   "execution_count": 7,
   "metadata": {},
   "outputs": [
    {
     "data": {
      "text/html": [
       "<div>\n",
       "<style scoped>\n",
       "    .dataframe tbody tr th:only-of-type {\n",
       "        vertical-align: middle;\n",
       "    }\n",
       "\n",
       "    .dataframe tbody tr th {\n",
       "        vertical-align: top;\n",
       "    }\n",
       "\n",
       "    .dataframe thead th {\n",
       "        text-align: right;\n",
       "    }\n",
       "</style>\n",
       "<table border=\"1\" class=\"dataframe\">\n",
       "  <thead>\n",
       "    <tr style=\"text-align: right;\">\n",
       "      <th></th>\n",
       "      <th>0</th>\n",
       "      <th>1</th>\n",
       "      <th>2</th>\n",
       "      <th>3</th>\n",
       "      <th>4</th>\n",
       "      <th>5</th>\n",
       "      <th>6</th>\n",
       "      <th>7</th>\n",
       "      <th>8</th>\n",
       "      <th>9</th>\n",
       "    </tr>\n",
       "  </thead>\n",
       "  <tbody>\n",
       "    <tr>\n",
       "      <th>count</th>\n",
       "      <td>1000.000000</td>\n",
       "      <td>1000.000000</td>\n",
       "      <td>1000.000000</td>\n",
       "      <td>1000.000000</td>\n",
       "      <td>1000.000000</td>\n",
       "      <td>1000.000000</td>\n",
       "      <td>1000.000000</td>\n",
       "      <td>1000.000000</td>\n",
       "      <td>1000.000000</td>\n",
       "      <td>1000.000000</td>\n",
       "    </tr>\n",
       "    <tr>\n",
       "      <th>mean</th>\n",
       "      <td>39.901462</td>\n",
       "      <td>57.528721</td>\n",
       "      <td>80.574891</td>\n",
       "      <td>101.992539</td>\n",
       "      <td>107.927994</td>\n",
       "      <td>131.965088</td>\n",
       "      <td>144.061344</td>\n",
       "      <td>139.083939</td>\n",
       "      <td>99.867909</td>\n",
       "      <td>107.167921</td>\n",
       "    </tr>\n",
       "    <tr>\n",
       "      <th>std</th>\n",
       "      <td>78.789229</td>\n",
       "      <td>112.501390</td>\n",
       "      <td>134.160898</td>\n",
       "      <td>167.689655</td>\n",
       "      <td>189.636035</td>\n",
       "      <td>219.111328</td>\n",
       "      <td>230.913096</td>\n",
       "      <td>217.239594</td>\n",
       "      <td>163.842835</td>\n",
       "      <td>150.037648</td>\n",
       "    </tr>\n",
       "    <tr>\n",
       "      <th>min</th>\n",
       "      <td>-1.509000</td>\n",
       "      <td>-3.560000</td>\n",
       "      <td>-12.350000</td>\n",
       "      <td>-14.870000</td>\n",
       "      <td>-15.849000</td>\n",
       "      <td>-14.913000</td>\n",
       "      <td>-15.932000</td>\n",
       "      <td>-15.762000</td>\n",
       "      <td>-15.880000</td>\n",
       "      <td>-15.649000</td>\n",
       "    </tr>\n",
       "    <tr>\n",
       "      <th>25%</th>\n",
       "      <td>4.527000</td>\n",
       "      <td>7.003000</td>\n",
       "      <td>-1.787000</td>\n",
       "      <td>20.613000</td>\n",
       "      <td>9.071000</td>\n",
       "      <td>44.739000</td>\n",
       "      <td>47.796000</td>\n",
       "      <td>47.286000</td>\n",
       "      <td>-15.880000</td>\n",
       "      <td>46.947000</td>\n",
       "    </tr>\n",
       "    <tr>\n",
       "      <th>50%</th>\n",
       "      <td>4.527000</td>\n",
       "      <td>10.680000</td>\n",
       "      <td>37.050000</td>\n",
       "      <td>44.610000</td>\n",
       "      <td>47.547000</td>\n",
       "      <td>44.739000</td>\n",
       "      <td>47.796000</td>\n",
       "      <td>47.286000</td>\n",
       "      <td>47.640000</td>\n",
       "      <td>46.947000</td>\n",
       "    </tr>\n",
       "    <tr>\n",
       "      <th>75%</th>\n",
       "      <td>9.054000</td>\n",
       "      <td>10.680000</td>\n",
       "      <td>37.050000</td>\n",
       "      <td>44.610000</td>\n",
       "      <td>47.547000</td>\n",
       "      <td>96.030000</td>\n",
       "      <td>93.611000</td>\n",
       "      <td>93.781000</td>\n",
       "      <td>47.640000</td>\n",
       "      <td>93.894000</td>\n",
       "    </tr>\n",
       "    <tr>\n",
       "      <th>max</th>\n",
       "      <td>224.514000</td>\n",
       "      <td>333.406000</td>\n",
       "      <td>429.007000</td>\n",
       "      <td>538.011000</td>\n",
       "      <td>636.803000</td>\n",
       "      <td>723.979000</td>\n",
       "      <td>746.053000</td>\n",
       "      <td>642.133000</td>\n",
       "      <td>531.072000</td>\n",
       "      <td>426.912000</td>\n",
       "    </tr>\n",
       "  </tbody>\n",
       "</table>\n",
       "</div>"
      ],
      "text/plain": [
       "                 0            1            2            3            4  \\\n",
       "count  1000.000000  1000.000000  1000.000000  1000.000000  1000.000000   \n",
       "mean     39.901462    57.528721    80.574891   101.992539   107.927994   \n",
       "std      78.789229   112.501390   134.160898   167.689655   189.636035   \n",
       "min      -1.509000    -3.560000   -12.350000   -14.870000   -15.849000   \n",
       "25%       4.527000     7.003000    -1.787000    20.613000     9.071000   \n",
       "50%       4.527000    10.680000    37.050000    44.610000    47.547000   \n",
       "75%       9.054000    10.680000    37.050000    44.610000    47.547000   \n",
       "max     224.514000   333.406000   429.007000   538.011000   636.803000   \n",
       "\n",
       "                 5            6            7            8            9  \n",
       "count  1000.000000  1000.000000  1000.000000  1000.000000  1000.000000  \n",
       "mean    131.965088   144.061344   139.083939    99.867909   107.167921  \n",
       "std     219.111328   230.913096   217.239594   163.842835   150.037648  \n",
       "min     -14.913000   -15.932000   -15.762000   -15.880000   -15.649000  \n",
       "25%      44.739000    47.796000    47.286000   -15.880000    46.947000  \n",
       "50%      44.739000    47.796000    47.286000    47.640000    46.947000  \n",
       "75%      96.030000    93.611000    93.781000    47.640000    93.894000  \n",
       "max     723.979000   746.053000   642.133000   531.072000   426.912000  "
      ]
     },
     "execution_count": 7,
     "metadata": {},
     "output_type": "execute_result"
    }
   ],
   "source": [
    "import pandas as pd\n",
    "pd.DataFrame(output_data).describe()"
   ]
  },
  {
   "cell_type": "code",
   "execution_count": 8,
   "metadata": {},
   "outputs": [
    {
     "data": {
      "text/plain": [
       "array([0.01595884, 0.08764624, 0.04833132, 0.2171418 , 0.13811447,\n",
       "       0.20399528, 0.00293252, 0.10777224, 0.01438616, 0.16372112])"
      ]
     },
     "execution_count": 8,
     "metadata": {},
     "output_type": "execute_result"
    }
   ],
   "source": [
    "square_waves[:, 1]\n",
    "validation_waves[1]"
   ]
  },
  {
   "cell_type": "code",
   "execution_count": 9,
   "metadata": {},
   "outputs": [],
   "source": [
    "from sklearn.preprocessing import MinMaxScaler\n",
    "scaler = MinMaxScaler(feature_range=(0.0001, 1))\n",
    "train_data_normalized = output_data #scaler.fit_transform(output_data.reshape(-1, 1))\n",
    "val_data_normalized = validation_data#scaler.transform(validation_data.reshape(-1, 1))"
   ]
  },
  {
   "cell_type": "code",
   "execution_count": 10,
   "metadata": {},
   "outputs": [],
   "source": [
    "output_data_normalized = train_data_normalized.reshape(-1,10)\n",
    "val_data_normalized = val_data_normalized.reshape([-1, 10])"
   ]
  },
  {
   "cell_type": "code",
   "execution_count": 11,
   "metadata": {},
   "outputs": [],
   "source": [
    "class Net(torch.nn.Module):\n",
    "    def __init__(self, n_feature, n_hidden, n_output):\n",
    "        super(Net, self).__init__()\n",
    "        self.hidden = torch.nn.Linear(n_feature, n_hidden)\n",
    "        self.hidden2 = torch.nn.Linear(n_hidden, n_hidden)\n",
    "        self.hidden3 = torch.nn.Linear(n_hidden, n_hidden)  \n",
    "        self.predict = torch.nn.Linear(n_hidden, n_output)  \n",
    "\n",
    "    def forward(self, x):\n",
    "        x = F.relu(self.hidden(x))      \n",
    "        x = F.relu(self.hidden2(x))\n",
    "        x = F.relu(self.hidden3(x))\n",
    "        x = self.predict(x)        \n",
    "        x = x**2 # ensures costs will all be positive     \n",
    "        return x"
   ]
  },
  {
   "cell_type": "code",
   "execution_count": 12,
   "metadata": {},
   "outputs": [
    {
     "name": "stdout",
     "output_type": "stream",
     "text": [
      "Net(\n",
      "  (hidden): Linear(in_features=10, out_features=32, bias=True)\n",
      "  (hidden2): Linear(in_features=32, out_features=32, bias=True)\n",
      "  (hidden3): Linear(in_features=32, out_features=32, bias=True)\n",
      "  (predict): Linear(in_features=32, out_features=10, bias=True)\n",
      ")\n"
     ]
    }
   ],
   "source": [
    "net = Net(n_feature=10, n_hidden=32, n_output=10)     # define the network\n",
    "print(net)  # net architecture\n",
    "optimizer = torch.optim.Adam(net.parameters(), lr=0.001, weight_decay=0.001)\n",
    "loss_func = torch.nn.MSELoss() "
   ]
  },
  {
   "cell_type": "code",
   "execution_count": 13,
   "metadata": {},
   "outputs": [
    {
     "name": "stdout",
     "output_type": "stream",
     "text": [
      "Min loss: 22361.48085003121, best l1 ratio: 0.99, best alpha: 0.01\n"
     ]
    },
    {
     "name": "stderr",
     "output_type": "stream",
     "text": [
      "/home/doseokt5/miniconda3/envs/neural_decoding/lib/python3.7/site-packages/sklearn/linear_model/_coordinate_descent.py:532: ConvergenceWarning: Objective did not converge. You might want to increase the number of iterations. Duality gap: 114917089.67936327, tolerance: 30891.749441355714\n",
      "  positive)\n",
      "/home/doseokt5/miniconda3/envs/neural_decoding/lib/python3.7/site-packages/sklearn/linear_model/_coordinate_descent.py:532: ConvergenceWarning: Objective did not converge. You might want to increase the number of iterations. Duality gap: 123296942.25859807, tolerance: 30891.749441355714\n",
      "  positive)\n",
      "/home/doseokt5/miniconda3/envs/neural_decoding/lib/python3.7/site-packages/sklearn/linear_model/_coordinate_descent.py:532: ConvergenceWarning: Objective did not converge. You might want to increase the number of iterations. Duality gap: 144468577.04461348, tolerance: 30891.749441355714\n",
      "  positive)\n",
      "/home/doseokt5/miniconda3/envs/neural_decoding/lib/python3.7/site-packages/sklearn/linear_model/_coordinate_descent.py:532: ConvergenceWarning: Objective did not converge. You might want to increase the number of iterations. Duality gap: 153176986.24807185, tolerance: 30891.749441355714\n",
      "  positive)\n",
      "/home/doseokt5/miniconda3/envs/neural_decoding/lib/python3.7/site-packages/sklearn/linear_model/_coordinate_descent.py:532: ConvergenceWarning: Objective did not converge. You might want to increase the number of iterations. Duality gap: 154326837.78202552, tolerance: 30891.749441355714\n",
      "  positive)\n",
      "/home/doseokt5/miniconda3/envs/neural_decoding/lib/python3.7/site-packages/sklearn/linear_model/_coordinate_descent.py:532: ConvergenceWarning: Objective did not converge. You might want to increase the number of iterations. Duality gap: 154445517.73139098, tolerance: 30891.749441355714\n",
      "  positive)\n"
     ]
    }
   ],
   "source": [
    "from sklearn.linear_model import ElasticNet\n",
    "l1_ratios = [0, 0.1, 0.5, 0.7, 0.95, 0.99, 1]\n",
    "alphas = [10**i for i in range(-4, 2, 1)]\n",
    "min_loss = None\n",
    "best_l1_ratio=None\n",
    "best_alpha=None\n",
    "for l1_ratio in l1_ratios:\n",
    "    for alpha in alphas:\n",
    "        elastic_net = ElasticNet(alpha=alpha, l1_ratio=l1_ratio)\n",
    "        elastic_net.fit(square_waves.reshape(-1, 1), output_data_normalized.reshape(-1, 1))\n",
    "        val_out = elastic_net.predict(validation_waves.reshape(-1, 1))\n",
    "        val_loss = loss_func(torch.tensor(val_data_normalized.reshape(-1, 1)), torch.tensor(val_out.reshape(-1, 1)))\n",
    "        if min_loss is None or val_loss < min_loss:\n",
    "            min_loss = val_loss\n",
    "            best_l1_ratio = l1_ratio\n",
    "            best_alpha = alpha\n",
    "print(\"Min loss: {}, best l1 ratio: {}, best alpha: {}\".format(min_loss, best_l1_ratio, best_alpha))"
   ]
  },
  {
   "cell_type": "code",
   "execution_count": 14,
   "metadata": {},
   "outputs": [
    {
     "name": "stdout",
     "output_type": "stream",
     "text": [
      "Best validation loss:  8173.835\n"
     ]
    }
   ],
   "source": [
    "from copy import deepcopy\n",
    "val_interval = 50\n",
    "train_losses = []\n",
    "val_losses = []\n",
    "use_ols = False\n",
    "best_model = None\n",
    "best_val_loss = 1000000\n",
    "# train the network\n",
    "for t in range(10000):\n",
    "    net.train()\n",
    "    loss = 0\n",
    "    prediction = net(torch.tensor(square_waves.reshape(-1, 10)).type(torch.FloatTensor))\n",
    "    loss = loss_func(prediction, torch.tensor(output_data_normalized.reshape(-1, 10)).type(torch.FloatTensor))\n",
    "    # for i in range(square_waves.shape[0]):\n",
    "    #     if not use_ols:\n",
    "    #         prediction = net(torch.tensor(square_waves[i].reshape(-1,1)).type(torch.FloatTensor))   \n",
    "    #     else:\n",
    "    #         prediction = torch.tensor(scaler.transform(86 + (5 * (square_waves[i].reshape(-1,1) - 5))))\n",
    "    #     loss +=  loss_func(prediction, torch.tensor(output_data_normalized[i].reshape(-1,1)).type(torch.FloatTensor))     # must be (1. nn output, 2. target)\n",
    "    #loss /= square_waves.shape[1]\n",
    "    if not use_ols:\n",
    "        optimizer.zero_grad()   # clear gradients for next train\n",
    "        loss.backward()         # backpropagation, compute gradients\n",
    "    #print(\"Training epoch {} loss: {}\".format(t, loss))\n",
    "    train_losses.append(loss.detach().numpy())\n",
    "    \n",
    "    optimizer.step()     \n",
    "    if t % val_interval == 0:\n",
    "        loss = 0\n",
    "        net.eval()\n",
    "        prediction = net(torch.tensor(validation_waves.reshape(-1, 10)).type(torch.FloatTensor))\n",
    "        loss = loss_func(prediction, torch.tensor(val_data_normalized.reshape(-1, 10)).type(torch.FloatTensor))\n",
    "        # for i in range(validation_waves.shape[0]):\n",
    "            \n",
    "        #     if not use_ols:\n",
    "        #         prediction = net(torch.tensor(validation_waves[i].reshape(-1,1)).type(torch.FloatTensor))   \n",
    "        #     else:\n",
    "        #         prediction = torch.tensor(scaler.transform(86 + (5 * (validation_waves[i].reshape(-1,1) - 5))))\n",
    "        #     loss +=  loss_func(prediction, torch.tensor(val_data_normalized[i].reshape(-1,1)).type(torch.FloatTensor))     # must be (1. nn output, 2. target)\n",
    "        # loss /= validation_waves.shape[0]\n",
    "        #print(\"Validation epoch {} loss: {}\".format(t, loss))\n",
    "        val_losses.append(loss.detach().numpy())\n",
    "        if loss < best_val_loss:\n",
    "            best_val_loss = loss\n",
    "            \n",
    "            best_model = deepcopy(net)\n",
    "\n",
    "print(\"Best validation loss: \", min(val_losses))\n",
    "\n"
   ]
  },
  {
   "cell_type": "code",
   "execution_count": 15,
   "metadata": {},
   "outputs": [
    {
     "data": {
      "text/html": [
       "<div>\n",
       "<style scoped>\n",
       "    .dataframe tbody tr th:only-of-type {\n",
       "        vertical-align: middle;\n",
       "    }\n",
       "\n",
       "    .dataframe tbody tr th {\n",
       "        vertical-align: top;\n",
       "    }\n",
       "\n",
       "    .dataframe thead th {\n",
       "        text-align: right;\n",
       "    }\n",
       "</style>\n",
       "<table border=\"1\" class=\"dataframe\">\n",
       "  <thead>\n",
       "    <tr style=\"text-align: right;\">\n",
       "      <th></th>\n",
       "      <th>0</th>\n",
       "      <th>1</th>\n",
       "      <th>2</th>\n",
       "      <th>3</th>\n",
       "      <th>4</th>\n",
       "      <th>5</th>\n",
       "      <th>6</th>\n",
       "      <th>7</th>\n",
       "      <th>8</th>\n",
       "      <th>9</th>\n",
       "    </tr>\n",
       "  </thead>\n",
       "  <tbody>\n",
       "    <tr>\n",
       "      <th>count</th>\n",
       "      <td>1000.000000</td>\n",
       "      <td>1000.000000</td>\n",
       "      <td>1000.000000</td>\n",
       "      <td>1000.000000</td>\n",
       "      <td>1000.000000</td>\n",
       "      <td>1000.000000</td>\n",
       "      <td>1000.000000</td>\n",
       "      <td>1000.000000</td>\n",
       "      <td>1000.000000</td>\n",
       "      <td>1000.000000</td>\n",
       "    </tr>\n",
       "    <tr>\n",
       "      <th>mean</th>\n",
       "      <td>46.443523</td>\n",
       "      <td>60.907078</td>\n",
       "      <td>79.277534</td>\n",
       "      <td>97.660416</td>\n",
       "      <td>105.110161</td>\n",
       "      <td>128.461578</td>\n",
       "      <td>138.143631</td>\n",
       "      <td>134.029419</td>\n",
       "      <td>95.661644</td>\n",
       "      <td>103.766296</td>\n",
       "    </tr>\n",
       "    <tr>\n",
       "      <th>std</th>\n",
       "      <td>60.841457</td>\n",
       "      <td>98.636116</td>\n",
       "      <td>121.257469</td>\n",
       "      <td>158.653595</td>\n",
       "      <td>178.970795</td>\n",
       "      <td>211.784897</td>\n",
       "      <td>229.293396</td>\n",
       "      <td>212.017166</td>\n",
       "      <td>155.288849</td>\n",
       "      <td>141.277695</td>\n",
       "    </tr>\n",
       "    <tr>\n",
       "      <th>min</th>\n",
       "      <td>0.000008</td>\n",
       "      <td>0.000042</td>\n",
       "      <td>0.000474</td>\n",
       "      <td>0.000010</td>\n",
       "      <td>0.000014</td>\n",
       "      <td>0.000013</td>\n",
       "      <td>0.000002</td>\n",
       "      <td>0.000013</td>\n",
       "      <td>0.000005</td>\n",
       "      <td>0.000078</td>\n",
       "    </tr>\n",
       "    <tr>\n",
       "      <th>25%</th>\n",
       "      <td>4.102811</td>\n",
       "      <td>3.202381</td>\n",
       "      <td>13.991355</td>\n",
       "      <td>6.751064</td>\n",
       "      <td>7.770954</td>\n",
       "      <td>8.884500</td>\n",
       "      <td>8.738140</td>\n",
       "      <td>5.241854</td>\n",
       "      <td>8.363132</td>\n",
       "      <td>9.721380</td>\n",
       "    </tr>\n",
       "    <tr>\n",
       "      <th>50%</th>\n",
       "      <td>20.149786</td>\n",
       "      <td>15.272701</td>\n",
       "      <td>30.997064</td>\n",
       "      <td>27.159435</td>\n",
       "      <td>28.593267</td>\n",
       "      <td>31.693459</td>\n",
       "      <td>30.675326</td>\n",
       "      <td>26.715020</td>\n",
       "      <td>29.062377</td>\n",
       "      <td>38.010065</td>\n",
       "    </tr>\n",
       "    <tr>\n",
       "      <th>75%</th>\n",
       "      <td>61.900028</td>\n",
       "      <td>61.991158</td>\n",
       "      <td>67.089514</td>\n",
       "      <td>88.654753</td>\n",
       "      <td>87.059446</td>\n",
       "      <td>102.082151</td>\n",
       "      <td>118.073277</td>\n",
       "      <td>125.211918</td>\n",
       "      <td>79.300571</td>\n",
       "      <td>118.977854</td>\n",
       "    </tr>\n",
       "    <tr>\n",
       "      <th>max</th>\n",
       "      <td>311.235596</td>\n",
       "      <td>528.840515</td>\n",
       "      <td>642.409912</td>\n",
       "      <td>754.425659</td>\n",
       "      <td>806.571472</td>\n",
       "      <td>857.270752</td>\n",
       "      <td>865.836060</td>\n",
       "      <td>771.904053</td>\n",
       "      <td>672.742615</td>\n",
       "      <td>578.561035</td>\n",
       "    </tr>\n",
       "  </tbody>\n",
       "</table>\n",
       "</div>"
      ],
      "text/plain": [
       "                 0            1            2            3            4  \\\n",
       "count  1000.000000  1000.000000  1000.000000  1000.000000  1000.000000   \n",
       "mean     46.443523    60.907078    79.277534    97.660416   105.110161   \n",
       "std      60.841457    98.636116   121.257469   158.653595   178.970795   \n",
       "min       0.000008     0.000042     0.000474     0.000010     0.000014   \n",
       "25%       4.102811     3.202381    13.991355     6.751064     7.770954   \n",
       "50%      20.149786    15.272701    30.997064    27.159435    28.593267   \n",
       "75%      61.900028    61.991158    67.089514    88.654753    87.059446   \n",
       "max     311.235596   528.840515   642.409912   754.425659   806.571472   \n",
       "\n",
       "                 5            6            7            8            9  \n",
       "count  1000.000000  1000.000000  1000.000000  1000.000000  1000.000000  \n",
       "mean    128.461578   138.143631   134.029419    95.661644   103.766296  \n",
       "std     211.784897   229.293396   212.017166   155.288849   141.277695  \n",
       "min       0.000013     0.000002     0.000013     0.000005     0.000078  \n",
       "25%       8.884500     8.738140     5.241854     8.363132     9.721380  \n",
       "50%      31.693459    30.675326    26.715020    29.062377    38.010065  \n",
       "75%     102.082151   118.073277   125.211918    79.300571   118.977854  \n",
       "max     857.270752   865.836060   771.904053   672.742615   578.561035  "
      ]
     },
     "execution_count": 15,
     "metadata": {},
     "output_type": "execute_result"
    }
   ],
   "source": [
    "pd.DataFrame(prediction.detach().numpy()).describe()"
   ]
  },
  {
   "cell_type": "code",
   "execution_count": 16,
   "metadata": {},
   "outputs": [
    {
     "data": {
      "text/plain": [
       "[<matplotlib.lines.Line2D at 0x7f635cb04150>]"
      ]
     },
     "execution_count": 16,
     "metadata": {},
     "output_type": "execute_result"
    },
    {
     "data": {
      "image/png": "[encoded data removed]",
      "text/plain": [
       "<Figure size 432x288 with 1 Axes>"
      ]
     },
     "metadata": {
      "needs_background": "light"
     },
     "output_type": "display_data"
    }
   ],
   "source": [
    "import matplotlib.pyplot as plt\n",
    "plt.plot(train_losses)"
   ]
  },
  {
   "cell_type": "code",
   "execution_count": 17,
   "metadata": {},
   "outputs": [
    {
     "data": {
      "text/plain": [
       "[<matplotlib.lines.Line2D at 0x7f635c8b9110>]"
      ]
     },
     "execution_count": 17,
     "metadata": {},
     "output_type": "execute_result"
    },
    {
     "data": {
      "image/png": "[encoded data removed]",
      "text/plain": [
       "<Figure size 432x288 with 1 Axes>"
      ]
     },
     "metadata": {
      "needs_background": "light"
     },
     "output_type": "display_data"
    }
   ],
   "source": [
    "import matplotlib.pyplot as plt\n",
    "plt.plot(val_losses)"
   ]
  },
  {
   "cell_type": "code",
   "execution_count": null,
   "metadata": {},
   "outputs": [],
   "source": []
  },
  {
   "cell_type": "code",
   "execution_count": 18,
   "metadata": {},
   "outputs": [],
   "source": [
    "torch.save(best_model.state_dict(), 'model_weights.pth')\n",
    "#torch.save(scaler, \"model_scaler.pth\")"
   ]
  },
  {
   "cell_type": "code",
   "execution_count": 19,
   "metadata": {},
   "outputs": [
    {
     "data": {
      "text/plain": [
       "MinMaxScaler(feature_range=(0.0001, 1))"
      ]
     },
     "execution_count": 19,
     "metadata": {},
     "output_type": "execute_result"
    }
   ],
   "source": [
    "scaler"
   ]
  },
  {
   "cell_type": "code",
   "execution_count": 20,
   "metadata": {},
   "outputs": [
    {
     "data": {
      "text/plain": [
       "dict_keys(['feature_range', 'copy', 'clip'])"
      ]
     },
     "execution_count": 20,
     "metadata": {},
     "output_type": "execute_result"
    }
   ],
   "source": [
    "scaler.__dict__.keys()"
   ]
  },
  {
   "cell_type": "code",
   "execution_count": 21,
   "metadata": {},
   "outputs": [
    {
     "ename": "AttributeError",
     "evalue": "'MinMaxScaler' object has no attribute 'scale_'",
     "output_type": "error",
     "traceback": [
      "\u001b[0;31m---------------------------------------------------------------------------\u001b[0m",
      "\u001b[0;31mAttributeError\u001b[0m                            Traceback (most recent call last)",
      "\u001b[0;32m<ipython-input-21-603f17f88c0b>\u001b[0m in \u001b[0;36m<module>\u001b[0;34m\u001b[0m\n\u001b[0;32m----> 1\u001b[0;31m \u001b[0mscaler\u001b[0m\u001b[0;34m.\u001b[0m\u001b[0mscale_\u001b[0m\u001b[0;34m\u001b[0m\u001b[0;34m\u001b[0m\u001b[0m\n\u001b[0m",
      "\u001b[0;31mAttributeError\u001b[0m: 'MinMaxScaler' object has no attribute 'scale_'"
     ]
    }
   ],
   "source": [
    "scaler.scale_"
   ]
  },
  {
   "cell_type": "code",
   "execution_count": null,
   "metadata": {},
   "outputs": [],
   "source": []
  }
 ],
 "metadata": {
  "interpreter": {
   "hash": "3d5baaeede1983d6b0a91ed42566590757dbb2e705f1cc78a48bc7026a73a848"
  },
  "kernelspec": {
   "display_name": "Python 3.7.7 64-bit ('neural_decoding': conda)",
   "name": "python3"
  },
  "language_info": {
   "codemirror_mode": {
    "name": "ipython",
    "version": 3
   },
   "file_extension": ".py",
   "mimetype": "text/x-python",
   "name": "python",
   "nbconvert_exporter": "python",
   "pygments_lexer": "ipython3",
   "version": "3.7.7"
  }
 },
 "nbformat": 4,
 "nbformat_minor": 5
}